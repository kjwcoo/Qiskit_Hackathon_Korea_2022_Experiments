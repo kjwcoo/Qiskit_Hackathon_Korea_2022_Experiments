{
 "cells": [
  {
   "cell_type": "markdown",
   "id": "3d988eda-fbd6-42f6-9a68-dcd86c77b8cb",
   "metadata": {},
   "source": [
    "Before starting with Qiskit Experiments, load your IBM Quantum accounts under \"# Loading your IBM Quantum account(s)\"."
   ]
  },
  {
   "cell_type": "code",
   "execution_count": null,
   "id": "00c3c8ba-9e14-4ae1-8728-4e8fe32e1037",
   "metadata": {},
   "outputs": [],
   "source": [
    "import numpy as np\n",
    "\n",
    "# Importing standard Qiskit libraries\n",
    "from qiskit import QuantumCircuit, transpile, IBMQ, schedule\n",
    "\n",
    "import qiskit.pulse as pulse\n",
    "from qiskit.circuit import Parameter\n",
    "\n",
    "from qiskit_experiments.calibration_management import Calibrations\n",
    "\n",
    "import pandas as pd\n",
    "\n",
    "# Loading your IBM Quantum account(s)\n"
   ]
  },
  {
   "cell_type": "markdown",
   "id": "9f7f8893-2f75-49da-9ed4-0a9309f047b3",
   "metadata": {},
   "source": [
    "It's time to set a Calibration class which is essential for Qiskit Experiments. In this example, I will calibrate a DRAG (Derivative Removal by Adiabatic Gate) pulse for two parameters: amplitude and DRAG coefficient. Our gates of interest are X and SX gates, which form a universal gate set for a single qubit rotation with virtual Z gate."
   ]
  },
  {
   "cell_type": "code",
   "execution_count": null,
   "id": "39b43261-8175-4e1b-b653-f95efcbec754",
   "metadata": {},
   "outputs": [],
   "source": [
    "qubit = 1"
   ]
  },
  {
   "cell_type": "code",
   "execution_count": null,
   "id": "864ca57f-c41c-47d3-be5c-a93660362cea",
   "metadata": {},
   "outputs": [],
   "source": [
    "phase = np.pi\n",
    "\n",
    "# Generating an instance of Calibrations class\n",
    "def setup_cals( backend ) -> Calibrations:\n",
    "    \"\"\" A function to instantiate calibrations and add a couple of template schedules. \"\"\"\n",
    "    # Instantiating Calibrations as cals\n",
    "    cals = Calibrations.from_backend( backend )\n",
    "    \n",
    "    # Parameters to sweep\n",
    "    dur = Parameter( \"dur\" )\n",
    "    amp = Parameter( \"amp\" )\n",
    "    amp_2 = Parameter( \"amp\" )\n",
    "    sigma = Parameter( \"σ\" )\n",
    "    beta = Parameter( \"β\" )\n",
    "    beta_2 = Parameter( \"β\" )\n",
    "    \n",
    "    \n",
    "    drive = pulse.DriveChannel( Parameter( \"ch0\" ) )\n",
    "    \n",
    "    # Define and add template schedules\n",
    "    with pulse.build( name=\"xp\" ) as xp:  # X positive\n",
    "        pulse.play( pulse.Drag( dur, amp, sigma, beta ),\n",
    "                    drive )\n",
    "        \n",
    "    with pulse.build( name=\"x\" ) as x:  # X positive\n",
    "        pulse.play( pulse.Drag( dur, amp, sigma, beta ),\n",
    "                    drive )\n",
    "    \n",
    "    with pulse.build( name=\"y\" ) as y:  # Y positive\n",
    "        pulse.shift_phase( phase, drive )\n",
    "        pulse.play( pulse.Drag( dur, amp, sigma, beta ),\n",
    "                    drive )\n",
    "\n",
    "    with pulse.build( name=\"xm\" ) as xm:  # X minus\n",
    "        pulse.play( pulse.Drag( dur, -amp, sigma, beta ),\n",
    "                    drive )\n",
    "        \n",
    "    with pulse.build( name=\"x90p\" ) as x90p:  # X/2 positive\n",
    "        # Different pulse amplitude and correction pulse amplitude for X/2\n",
    "        pulse.play( pulse.Drag( dur, amp_2, sigma, beta_2 ),\n",
    "                    drive )\n",
    "\n",
    "    with pulse.build( name=\"sx\" ) as sx:  # X/2 positive\n",
    "        # Different pulse amplitude and correction pulse amplitude for X/2\n",
    "        pulse.play( pulse.Drag( dur, amp_2, sigma, beta_2 ),\n",
    "                    drive )\n",
    "    \n",
    "    cals.add_schedule( xp, num_qubits=1 )\n",
    "    cals.add_schedule( xm, num_qubits=1 )\n",
    "    cals.add_schedule( x90p, num_qubits=1 )\n",
    "    cals.add_schedule( x, num_qubits=1 )\n",
    "    cals.add_schedule( y, num_qubits=1 )\n",
    "    cals.add_schedule( sx, num_qubits=1 )\n",
    "    \n",
    "    return cals\n",
    "\n",
    "\n",
    "def add_parameter_guesses( cals: Calibrations ):\n",
    "    \"\"\" Add guesses for the parameter values to the calibrations. \"\"\"\n",
    "    for sched in [ \"x\", \"xp\", \"y\", \"sx\", \"x90p\" ]:\n",
    "        cals.add_parameter_value( 80, \"σ\", schedule=sched )\n",
    "        cals.add_parameter_value( 0.5, \"β\", schedule=sched )\n",
    "        cals.add_parameter_value( 320, \"dur\", schedule=sched )\n",
    "        cals.add_parameter_value( 0.5, \"amp\", schedule=sched )"
   ]
  },
  {
   "cell_type": "code",
   "execution_count": null,
   "id": "dd5df293-ac6f-4e1e-af3e-dc4a8545c16c",
   "metadata": {},
   "outputs": [],
   "source": [
    "# Calling calibration functions\n",
    "cals = setup_cals( backend )\n",
    "add_parameter_guesses( cals )"
   ]
  },
  {
   "cell_type": "code",
   "execution_count": null,
   "id": "1f5bd5c5-1b75-482c-98d0-50628256c180",
   "metadata": {},
   "outputs": [],
   "source": [
    "# Using a default frequency\n",
    "\n",
    "import pandas as pd\n",
    "\n",
    "pd.DataFrame( **cals.parameters_table( qubit_list=[ qubit, () ], parameters=\"drive_freq\" ) )"
   ]
  },
  {
   "cell_type": "markdown",
   "id": "6769d793-f74a-4ab9-b663-6c0d3ba92a9d",
   "metadata": {},
   "source": [
    "### 2. Pulse Amplitude Sweep\n",
    "We perform Rabi oscillation with respect to the amplitude of $\\pi$-pulse."
   ]
  },
  {
   "cell_type": "code",
   "execution_count": null,
   "id": "43dac6f0-f263-4ef1-96a8-1b7c4ba73190",
   "metadata": {},
   "outputs": [],
   "source": [
    "from qiskit_experiments.library.calibration import RoughXSXAmplitudeCal"
   ]
  },
  {
   "cell_type": "code",
   "execution_count": null,
   "id": "e135a276-c404-4912-b960-6b59fb906657",
   "metadata": {},
   "outputs": [],
   "source": [
    "# Define Rabi amplitude sweep sequence\n",
    "rabi = RoughXSXAmplitudeCal( qubit, cals, amplitudes=np.linspace( -0.2, 0.2, 51 ), backend=backend )"
   ]
  },
  {
   "cell_type": "code",
   "execution_count": null,
   "id": "35a8fc9f-f3dc-48c9-a94b-a28818eb7cf1",
   "metadata": {},
   "outputs": [],
   "source": [
    "# Run the experiment\n",
    "rabi_data = rabi.run().block_for_results()"
   ]
  },
  {
   "cell_type": "code",
   "execution_count": null,
   "id": "a032c1e1-cfc0-4eb1-b44b-5d1cb38d98e7",
   "metadata": {},
   "outputs": [],
   "source": [
    "rabi_data.figure( 0 )"
   ]
  },
  {
   "cell_type": "code",
   "execution_count": null,
   "id": "c44ba754-0dc3-4234-bc27-386aa4f2e51f",
   "metadata": {},
   "outputs": [],
   "source": [
    "# Save pulse amplitude\n",
    "pi_amp = np.pi / ( 2*np.pi*rabi_data.analysis_results( \"rabi_rate\" ).value.value )\n",
    "print( pi_amp )"
   ]
  },
  {
   "cell_type": "code",
   "execution_count": null,
   "id": "39a49982-212b-492f-8823-91786be6a42b",
   "metadata": {},
   "outputs": [],
   "source": [
    "defaults = backend.defaults()\n",
    "x_schedule = defaults.instruction_schedule_map.get( 'x', 1 )\n",
    "print( x_schedule )"
   ]
  },
  {
   "cell_type": "code",
   "execution_count": null,
   "id": "b002750f-1a7e-4d51-bc8d-275e3c84d40c",
   "metadata": {},
   "outputs": [],
   "source": [
    "pd.DataFrame(**cals.parameters_table(qubit_list=[qubit, ()], parameters=\"amp\"))"
   ]
  },
  {
   "cell_type": "code",
   "execution_count": null,
   "id": "96619595-6d16-47b4-ade8-8c0322097cd2",
   "metadata": {},
   "outputs": [],
   "source": [
    "cals.get_schedule(\"sx\", qubit)"
   ]
  },
  {
   "cell_type": "code",
   "execution_count": null,
   "id": "2707e7e1-ad8e-475f-96f6-c95afac3c8e8",
   "metadata": {},
   "outputs": [],
   "source": [
    "cals.get_schedule(\"x\", qubit)"
   ]
  },
  {
   "cell_type": "markdown",
   "id": "25d5a9b7-1bd8-4206-8c3a-2f724888140a",
   "metadata": {},
   "source": [
    "### 3. DRAG Coefficient Sweep\n",
    "* A Derivative Removal by Adiabatic Gate (DRAG) pulse is designed to minimize leakage to a neighboring transition.\n",
    "* Hence, it is designed to minimize the transition $|1\\rangle - |2\\rangle$.\n",
    "* In a physical sense, the main reason for leakage is AC Stark shift caused by the residual phonon population.\n",
    "* Pulse envelope is defined as $f(t)=\\Omega_X(t)+i\\beta\\frac{d}{dt}\\Omega_X(t)$ where $\\Omega_X$ is the envelope of the in-phase component of the pulse and $\\beta$ is the strength of the quadrature component we want to optimize."
   ]
  },
  {
   "cell_type": "code",
   "execution_count": null,
   "id": "f10000af-0ea1-4340-8b28-767dfa9df547",
   "metadata": {},
   "outputs": [],
   "source": [
    "from qiskit_experiments.library import RoughDragCal"
   ]
  },
  {
   "cell_type": "code",
   "execution_count": null,
   "id": "14a8e220-f77e-41b2-b6ba-5ed9cb22d3da",
   "metadata": {},
   "outputs": [],
   "source": [
    "# Define DRAG coefficient sweep sequence\n",
    "cal_drag = RoughDragCal( qubit, cals, backend=backend, betas=np.linspace( -20, 20, 51 ) )\n",
    "cal_drag.set_experiment_options( reps=[ 3, 5, 7 ] )"
   ]
  },
  {
   "cell_type": "code",
   "execution_count": null,
   "id": "d5db0280-3a4d-4da9-bdb0-bca8f62904a7",
   "metadata": {},
   "outputs": [],
   "source": [
    "# Run the DRAG measurement\n",
    "drag_data = cal_drag.run().block_for_results()"
   ]
  },
  {
   "cell_type": "code",
   "execution_count": null,
   "id": "e2a42db4-49a4-4219-8fbf-b48d7fa0de06",
   "metadata": {},
   "outputs": [],
   "source": [
    "drag_data.figure( 0 )"
   ]
  },
  {
   "cell_type": "code",
   "execution_count": null,
   "id": "1650be6f-b81e-4c0a-b815-5bccff5e17c5",
   "metadata": {},
   "outputs": [],
   "source": [
    "print( drag_data.analysis_results( \"beta\" ) )"
   ]
  },
  {
   "cell_type": "code",
   "execution_count": null,
   "id": "5dc0ef87-9c5e-4ee3-899d-3ee3d5d75819",
   "metadata": {},
   "outputs": [],
   "source": [
    "# Save DRAG coefficient\n",
    "beta = drag_data.analysis_results( \"beta\" ).value.value\n",
    "\n",
    "print( beta )"
   ]
  },
  {
   "cell_type": "markdown",
   "id": "1f445719-db8c-4fd6-aa9b-5b718eea7b28",
   "metadata": {},
   "source": [
    "Now let's find the DRAG coefficient for SX gate."
   ]
  },
  {
   "cell_type": "code",
   "execution_count": null,
   "id": "b2f95f33-544f-4ca4-aed7-f1fb349aacf9",
   "metadata": {},
   "outputs": [],
   "source": [
    "# Define DRAG coefficient sweep sequence\n",
    "cal_drag = RoughDragCal( qubit, cals, backend=backend, schedule_name=\"sx\", betas=np.linspace( -20, 20, 51 ) )\n",
    "cal_drag.set_experiment_options( reps=[ 9, 11, 17 ] )"
   ]
  },
  {
   "cell_type": "code",
   "execution_count": null,
   "id": "f72afd19-a8d0-4675-abc7-626cb6ee7971",
   "metadata": {},
   "outputs": [],
   "source": [
    "# Run the DRAG measurement\n",
    "drag_data = cal_drag.run().block_for_results()"
   ]
  },
  {
   "cell_type": "code",
   "execution_count": null,
   "id": "df5f20a5-da58-4abe-ac2e-e59ed760f69a",
   "metadata": {},
   "outputs": [],
   "source": [
    "drag_data.figure( 0 )"
   ]
  },
  {
   "cell_type": "code",
   "execution_count": null,
   "id": "9b038f48-4fb9-4865-b485-f9c5e8a27cab",
   "metadata": {},
   "outputs": [],
   "source": [
    "# Save DRAG coefficient\n",
    "beta_2 = drag_data.analysis_results( \"beta\" ).value.value\n",
    "\n",
    "print( beta_2 )"
   ]
  },
  {
   "cell_type": "code",
   "execution_count": null,
   "id": "5b92bc29-5189-4a9b-9c28-866fc8f31213",
   "metadata": {},
   "outputs": [],
   "source": [
    "pd.DataFrame(**cals.parameters_table(qubit_list=[qubit, ()], parameters=\"β\"))"
   ]
  },
  {
   "cell_type": "code",
   "execution_count": null,
   "id": "3f9c05cf-2d0f-4f05-a22d-69b7c7a3c2bc",
   "metadata": {},
   "outputs": [],
   "source": [
    "#print( \"Qubit frequency: \", qubit_freq / 1e9, \" GHz\" )\n",
    "print( \"π-pulse amplitude: \", pi_amp )\n",
    "print( \"DRAG coefficient β fox X: \", beta )\n",
    "print( \"DRAG coefficient β for SX: \", beta_2 )"
   ]
  },
  {
   "cell_type": "markdown",
   "id": "6ac54e14-d7b0-4021-9037-0ff74ae00c99",
   "metadata": {
    "tags": []
   },
   "source": [
    "### 5. Fine Amplitude Calibration\n",
    "* FineAmplitude calibration repeats a gate $N$ times to amplify the under-/over-rotations to determine the optimal amplitude.\n",
    "* The addition of $\\sqrt{X}$ is to distinguish between the over- and under-rotations for $\\pi$-pulses.\n",
    "* ref: https://qiskit.org/documentation/experiments/stubs/qiskit_experiments.library.characterization.FineAmplitude.html#qiskit_experiments.library.characterization.FineAmplitude\n",
    "* paper: Sarah Sheldon, Lev S. Bishop, Easwar Magesan, Stefan Filipp, Jerry M. Chow, Jay M. Gambetta, Characterizing errors on qubit operations via iterative randomized benchmarking, Phys. Rev. A 93, 012301 (2016), doi: 10.1103/PhysRevA.93.012301"
   ]
  },
  {
   "cell_type": "code",
   "execution_count": null,
   "id": "4c3134cd-e8b8-4db4-b7d2-1866f2733fc6",
   "metadata": {},
   "outputs": [],
   "source": [
    "from qiskit_experiments.library.calibration.fine_amplitude import FineXAmplitudeCal"
   ]
  },
  {
   "cell_type": "code",
   "execution_count": null,
   "id": "bee60986-a894-4176-9bc3-53cf66303243",
   "metadata": {},
   "outputs": [],
   "source": [
    "amp_x_cal = FineXAmplitudeCal(qubit, cals, backend=backend, schedule_name=\"x\")"
   ]
  },
  {
   "cell_type": "code",
   "execution_count": null,
   "id": "af614d95-d80d-4c08-9447-1e36fd105515",
   "metadata": {},
   "outputs": [],
   "source": [
    "amp_x_fine = amp_x_cal.run().block_for_results()"
   ]
  },
  {
   "cell_type": "code",
   "execution_count": null,
   "id": "18cb35a8-3c82-449e-b186-bb1086c16e4d",
   "metadata": {},
   "outputs": [],
   "source": [
    "amp_x_fine.figure(0)"
   ]
  },
  {
   "cell_type": "code",
   "execution_count": null,
   "id": "1d73f975-97b0-41f7-86a4-3e2f5778afd0",
   "metadata": {},
   "outputs": [],
   "source": [
    "print( amp_x_fine.analysis_results( \"d_theta\" ) )"
   ]
  },
  {
   "cell_type": "code",
   "execution_count": null,
   "id": "2f8fde90-3299-434e-ba09-cb2c33846191",
   "metadata": {},
   "outputs": [],
   "source": [
    "dtheta = amp_x_fine.analysis_results( \"d_theta\" ).value.value\n",
    "target_angle = np.pi\n",
    "scale = target_angle / ( target_angle + dtheta )\n",
    "\n",
    "print( \"Deviation of\", dtheta, \"is detected for\", target_angle, \"rotation.\" )\n",
    "print( \"Hence, switch the π-amplitude from\", pi_amp, \"to\", pi_amp*scale )\n",
    "\n",
    "fine_x_amp = pi_amp * scale"
   ]
  },
  {
   "cell_type": "code",
   "execution_count": null,
   "id": "99d4418f-771a-483e-a6ee-b78019f9f638",
   "metadata": {},
   "outputs": [],
   "source": [
    "# Check if we have better π-gate.\n",
    "# Note that we don't have to update cals as it is updated automatically.\n",
    "sanity_check = amp_x_cal.run().block_for_results()"
   ]
  },
  {
   "cell_type": "code",
   "execution_count": null,
   "id": "a7f9b32b-94a8-487a-b10f-b0a7bf6d3a66",
   "metadata": {},
   "outputs": [],
   "source": [
    "print( \"d_theta has been decreased from\", dtheta, \"to\", sanity_check.analysis_results( \"d_theta\" ).value.value )"
   ]
  },
  {
   "cell_type": "markdown",
   "id": "780d2831-6d99-4a89-b3a6-6da9af7a3a53",
   "metadata": {},
   "source": [
    "Now that we've done with fine-tuning the $\\pi$-rotation, we'll fine-tune $\\pi/2$-rotation."
   ]
  },
  {
   "cell_type": "code",
   "execution_count": null,
   "id": "bf45d7a4-644c-420d-8e07-75273ae2ca36",
   "metadata": {},
   "outputs": [],
   "source": [
    "from qiskit_experiments.library.calibration.fine_amplitude import FineSXAmplitudeCal"
   ]
  },
  {
   "cell_type": "code",
   "execution_count": null,
   "id": "0ddd35ad-e05e-4e04-addc-686d633b05af",
   "metadata": {},
   "outputs": [],
   "source": [
    "amp_sx_cal = FineSXAmplitudeCal(qubit, cals, backend=backend, schedule_name=\"sx\")"
   ]
  },
  {
   "cell_type": "code",
   "execution_count": null,
   "id": "314dacde-f2ff-4a43-8c55-c767a3d2665c",
   "metadata": {},
   "outputs": [],
   "source": [
    "amp_sx_fine = amp_sx_cal.run().block_for_results()"
   ]
  },
  {
   "cell_type": "code",
   "execution_count": null,
   "id": "44f0edec-59c9-47aa-a373-bcba8813bc85",
   "metadata": {},
   "outputs": [],
   "source": [
    "print( amp_sx_fine.analysis_results( \"d_theta\" ) )"
   ]
  },
  {
   "cell_type": "code",
   "execution_count": null,
   "id": "6a327e92-c513-47fd-b38b-77904299d062",
   "metadata": {},
   "outputs": [],
   "source": [
    "amp_sx_fine.figure(0)"
   ]
  },
  {
   "cell_type": "code",
   "execution_count": null,
   "id": "a923518a-57e4-4bae-b630-bf46dd6269a4",
   "metadata": {},
   "outputs": [],
   "source": [
    "dtheta = amp_sx_fine.analysis_results( \"d_theta\" ).value.value\n",
    "target_angle = np.pi/2\n",
    "scale = target_angle / ( target_angle + dtheta )\n",
    "\n",
    "print( \"Deviation of\", dtheta, \"is detected for\", target_angle, \"rotation.\" )\n",
    "print( \"Hence, switch the π/2-amplitude from\", pi_amp/2, \"to\", pi_amp/2*scale )\n",
    "\n",
    "fine_sx_amp = pi_amp/2 * scale"
   ]
  },
  {
   "cell_type": "markdown",
   "id": "61049537-a3db-4c13-80fb-3c34aa9cd637",
   "metadata": {},
   "source": [
    "### 6. Fine DRAG Calibration\n",
    "* ref: https://qiskit.org/documentation/experiments/stubs/qiskit_experiments.library.characterization.FineDrag.html#qiskit_experiments.library.characterization.FineDrag\n",
    "* ref on X DRAG: https://qiskit.org/documentation/experiments/_modules/qiskit_experiments/library/characterization/fine_drag.html#FineXDrag\n",
    "* ref on SX DRAG:\n",
    "https://qiskit.org/documentation/experiments/stubs/qiskit_experiments.library.characterization.FineSXDrag.html#qiskit_experiments.library.characterization.FineSXDrag"
   ]
  },
  {
   "cell_type": "code",
   "execution_count": null,
   "id": "475e6c58-25ab-47a8-b679-bd680911ad33",
   "metadata": {},
   "outputs": [],
   "source": [
    "from qiskit_experiments.library.calibration import FineXDragCal, FineSXDragCal"
   ]
  },
  {
   "cell_type": "code",
   "execution_count": null,
   "id": "cf5c1c8e-4a03-44e3-b972-1ef959ede61f",
   "metadata": {},
   "outputs": [],
   "source": [
    "drag_x_cal = FineXDragCal( qubit, cals, backend=backend )"
   ]
  },
  {
   "cell_type": "code",
   "execution_count": null,
   "id": "9e79e781-b50f-4096-bfec-2827c22b3fc7",
   "metadata": {},
   "outputs": [],
   "source": [
    "drag_x_fine = drag_x_cal.run().block_for_results()"
   ]
  },
  {
   "cell_type": "code",
   "execution_count": null,
   "id": "f5c1cace-1ee6-422c-ac11-a2a47527370f",
   "metadata": {},
   "outputs": [],
   "source": [
    "drag_x_fine.figure(0)"
   ]
  },
  {
   "cell_type": "code",
   "execution_count": null,
   "id": "9991c373-ae2d-4798-80ea-8b860f13387c",
   "metadata": {},
   "outputs": [],
   "source": [
    "fine_beta = cals.get_parameter_value( \"β\", qubit, \"x\" )\n",
    "\n",
    "print( fine_beta )"
   ]
  },
  {
   "cell_type": "markdown",
   "id": "064278a3-1ded-4afd-b341-9fa3fa245319",
   "metadata": {},
   "source": [
    "Now, let's fine-tune the DRAG coefficient for SX gate"
   ]
  },
  {
   "cell_type": "code",
   "execution_count": null,
   "id": "e41ee7ad-c979-400e-bd3a-b5e1ed865f18",
   "metadata": {},
   "outputs": [],
   "source": [
    "drag_sx_cal = FineSXDragCal( qubit, cals, backend=backend )"
   ]
  },
  {
   "cell_type": "code",
   "execution_count": null,
   "id": "15ed73f0-4a42-4100-8d62-6ab8ba46f33d",
   "metadata": {},
   "outputs": [],
   "source": [
    "drag_sx_fine = drag_sx_cal.run().block_for_results()"
   ]
  },
  {
   "cell_type": "code",
   "execution_count": null,
   "id": "e0ca9b85-e4c9-4572-8fcb-8414c194e1f4",
   "metadata": {},
   "outputs": [],
   "source": [
    "fine_beta_2 = cals.get_parameter_value( \"β\", qubit, \"sx\" )\n",
    "\n",
    "print( fine_beta_2 )"
   ]
  },
  {
   "cell_type": "code",
   "execution_count": null,
   "id": "577ffba7-6c9d-40a5-9144-54c165b5aa9d",
   "metadata": {},
   "outputs": [],
   "source": [
    "pd.DataFrame(**cals.parameters_table(qubit_list=[qubit, ()], parameters=\"β\"))"
   ]
  },
  {
   "cell_type": "markdown",
   "id": "438c2e00-5324-4a39-afb1-941d1b27d54c",
   "metadata": {
    "tags": []
   },
   "source": [
    "### 7. HalfAngle Calibration\n",
    "As X and SX gates have different amplitudes, they may be unparallel due to the nonlinearities of classical control lines. Here, we calibrate the phase of SX gate to make it parallel to X gate.\n",
    "* ref: http://arxiv.org/pdf/1504.06597v1\n",
    "* ref: https://qiskit.org/documentation/experiments/stubs/qiskit_experiments.library.characterization.HalfAngle.html"
   ]
  },
  {
   "cell_type": "code",
   "execution_count": null,
   "id": "99d7c586-04e1-4eef-ad24-b3af07ce407d",
   "metadata": {},
   "outputs": [],
   "source": [
    "from qiskit_experiments.library.calibration.half_angle_cal import HalfAngleCal"
   ]
  },
  {
   "cell_type": "code",
   "execution_count": null,
   "id": "81f59775-9433-4b6d-a615-fafd21e30346",
   "metadata": {},
   "outputs": [],
   "source": [
    "half_angle_cal = HalfAngleCal( qubit, cals, backend=backend )"
   ]
  },
  {
   "cell_type": "code",
   "execution_count": null,
   "id": "51057b50-4743-4e85-98c9-0a3e76c28241",
   "metadata": {},
   "outputs": [],
   "source": [
    "half_angle_fine = half_angle_cal.run().block_for_results()"
   ]
  },
  {
   "cell_type": "code",
   "execution_count": null,
   "id": "f1a1e197-805f-48ad-a298-ef9491aa2f10",
   "metadata": {},
   "outputs": [],
   "source": [
    "half_angle_fine.figure(0)"
   ]
  },
  {
   "cell_type": "code",
   "execution_count": null,
   "id": "ff96b85e-0183-4509-8209-b82f63886eb1",
   "metadata": {},
   "outputs": [],
   "source": [
    "finer_sx_amp = cals.get_parameter_value( \"amp\", qubit, \"sx\" )\n",
    "print( finer_sx_amp )"
   ]
  },
  {
   "cell_type": "markdown",
   "id": "681fa70f-37a2-4ebe-92ed-b246e7f7def5",
   "metadata": {},
   "source": [
    "### 8. Save the Parameters"
   ]
  },
  {
   "cell_type": "code",
   "execution_count": null,
   "id": "8c4865c9-5b8c-4482-908a-f0d1dc965616",
   "metadata": {},
   "outputs": [],
   "source": [
    "# print( \"Qubit frequency:\", qubit_freq/1e9, \"GHz to Fine Qubit frequency:\", fine_qubit_freq/1e9, \"GHz.\" )\n",
    "print( \"π-pulse amplitude:\", pi_amp, \"to Fine π-pulse amplitude:\", fine_x_amp)\n",
    "print( \"π/2-pulse amplitude:\", pi_amp/2, \"to Fine π/2-pulse amplitude:\", finer_sx_amp)\n",
    "print( \"DRAG coefficient β fox X:\", beta, \"to Fine DRAG coefficient β for X:\", fine_beta )\n",
    "print( \"DRAG coefficient β for SX: \", beta_2, \"to Fine DRAG coefficient β for SX:\", fine_beta_2  )"
   ]
  },
  {
   "cell_type": "markdown",
   "id": "2f551a30-e5eb-4770-ab52-cc96635fcb7a",
   "metadata": {
    "tags": []
   },
   "source": [
    "### 10. Defining Custom Gates"
   ]
  },
  {
   "cell_type": "markdown",
   "id": "70acc020-d4fe-434f-a27f-8662237a8cb4",
   "metadata": {},
   "source": [
    "We will define our own gate set and perform randomized benchmarking to check gate fidelities of our own gate set!"
   ]
  },
  {
   "cell_type": "code",
   "execution_count": null,
   "id": "229b5368-536f-46ad-a0b7-628e852e7ffb",
   "metadata": {},
   "outputs": [],
   "source": [
    "# Importing standard Qiskit libraries\n",
    "from qiskit import QuantumCircuit, transpile, pulse, IBMQ\n",
    "\n",
    "# Importing RB-related libraries\n",
    "from qiskit_experiments.library import StandardRB, InterleavedRB\n",
    "from qiskit_experiments.framework import ParallelExperiment\n",
    "from qiskit_experiments.library.randomized_benchmarking import RBUtils\n",
    "import qiskit.circuit.library as circuits"
   ]
  },
  {
   "cell_type": "code",
   "execution_count": null,
   "id": "93517365-b33d-42d8-90ff-46f4551f9114",
   "metadata": {},
   "outputs": [],
   "source": [
    "x_amp = fine_x_amp\n",
    "sx_amp = fine_sx_amp\n",
    "x_drag = fine_beta\n",
    "sx_drag = fine_beta_2"
   ]
  },
  {
   "cell_type": "code",
   "execution_count": null,
   "id": "57e5e750-5319-498d-8af7-fcab8189fd76",
   "metadata": {},
   "outputs": [],
   "source": [
    "with pulse.build(backend) as X_pulse:\n",
    "    drive_duration=320\n",
    "    drive_sigma=80\n",
    "    drive_chan=pulse.drive_channel(qubit)\n",
    "    pulse.play(pulse.library.Drag(duration=drive_duration,\n",
    "                              amp=x_amp,\n",
    "                              sigma=drive_sigma,\n",
    "                              beta=x_drag,\n",
    "                              name='X pulse'), drive_chan)"
   ]
  },
  {
   "cell_type": "code",
   "execution_count": null,
   "id": "1655f85a-636f-40d7-a361-c8a35b331071",
   "metadata": {},
   "outputs": [],
   "source": [
    "with pulse.build(backend) as SX_pulse:\n",
    "    drive_duration=320\n",
    "    drive_sigma=80\n",
    "    drive_chan=pulse.drive_channel(qubit)\n",
    "    pulse.play(pulse.library.Drag(duration=drive_duration,\n",
    "                              amp=sx_amp,\n",
    "                              sigma=drive_sigma,\n",
    "                              beta=sx_drag,\n",
    "                              name='SX pulse'), drive_chan)"
   ]
  },
  {
   "cell_type": "markdown",
   "id": "a24f5437-ef6f-4be8-8eaa-59cfcba48877",
   "metadata": {},
   "source": [
    "Let's check if X and SX gates we've added to the instruction map by inst_map.add are really added."
   ]
  },
  {
   "cell_type": "code",
   "execution_count": null,
   "id": "d18698f5-7da0-4239-b050-095ba6088d90",
   "metadata": {},
   "outputs": [],
   "source": [
    "inst_map = backend.defaults().instruction_schedule_map\n",
    "print( inst_map.get('x',qubit) )\n",
    "print( inst_map.get('sx',qubit) )\n",
    "inst_map.add( 'x', qubit, X_pulse )\n",
    "inst_map.add( 'sx', qubit, SX_pulse )\n",
    "print( inst_map.get('x',qubit) )\n",
    "print( inst_map.get('sx',qubit) )"
   ]
  },
  {
   "cell_type": "markdown",
   "id": "52c23537-63e6-4bd5-85c9-15f7b619d770",
   "metadata": {
    "tags": []
   },
   "source": [
    "### 11. Randomized Benchmarking\n",
    "\n",
    "* ref: https://qiskit.org/documentation/experiments/stubs/qiskit_experiments.library.randomized_benchmarking.StandardRB.html"
   ]
  },
  {
   "cell_type": "code",
   "execution_count": null,
   "id": "0906bd4c-38d8-49c6-9dfc-88d943958447",
   "metadata": {},
   "outputs": [],
   "source": [
    "lengths = np.arange( 1, 2000, 200 )\n",
    "num_samples = 16\n",
    "seed = 1010\n",
    "qubits = [qubit]\n",
    "\n",
    "# Run an RB experiment on qubit 1\n",
    "expDyn = StandardRB(qubits, lengths, num_samples=num_samples, seed=seed)\n",
    "expdataDyn = expDyn.run(backend=backend)"
   ]
  },
  {
   "cell_type": "code",
   "execution_count": null,
   "id": "8a845b95-889f-4f0d-a639-61f535ad834e",
   "metadata": {},
   "outputs": [],
   "source": [
    "# View result data\n",
    "display(expdataDyn.figure(0))"
   ]
  }
 ],
 "metadata": {
  "kernelspec": {
   "display_name": "Python 3 (ipykernel)",
   "language": "python",
   "name": "python3"
  },
  "language_info": {
   "codemirror_mode": {
    "name": "ipython",
    "version": 3
   },
   "file_extension": ".py",
   "mimetype": "text/x-python",
   "name": "python",
   "nbconvert_exporter": "python",
   "pygments_lexer": "ipython3",
   "version": "3.8.12"
  }
 },
 "nbformat": 4,
 "nbformat_minor": 5
}
